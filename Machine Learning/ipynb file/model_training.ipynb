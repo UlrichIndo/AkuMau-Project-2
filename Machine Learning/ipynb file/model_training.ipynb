{
  "nbformat": 4,
  "nbformat_minor": 0,
  "metadata": {
    "colab": {
      "provenance": []
    },
    "kernelspec": {
      "name": "python3",
      "display_name": "Python 3"
    },
    "language_info": {
      "name": "python"
    }
  },
  "cells": [
    {
      "cell_type": "code",
      "execution_count": 1,
      "metadata": {
        "id": "YxdgWw0fIz89"
      },
      "outputs": [],
      "source": [
        "import pandas as pd\n",
        "import numpy as np\n",
        "from sklearn.model_selection import train_test_split\n",
        "from sklearn.preprocessing import LabelEncoder\n",
        "import matplotlib.pyplot as plt"
      ]
    },
    {
      "cell_type": "code",
      "source": [
        "!wget --no-check-certificate \"https://drive.google.com/uc?export=download&id=1zRzUOznck_4TJAZ3M_0fGuKrmGqaqpJi\" -O dataset.csv"
      ],
      "metadata": {
        "colab": {
          "base_uri": "https://localhost:8080/"
        },
        "id": "NKEvv1JaROzT",
        "outputId": "bb058b9f-7958-471a-adf7-03d8777f6e73"
      },
      "execution_count": 2,
      "outputs": [
        {
          "output_type": "stream",
          "name": "stdout",
          "text": [
            "--2023-06-11 11:43:46--  https://drive.google.com/uc?export=download&id=1zRzUOznck_4TJAZ3M_0fGuKrmGqaqpJi\n",
            "Resolving drive.google.com (drive.google.com)... 142.250.153.139, 142.250.153.100, 142.250.153.138, ...\n",
            "Connecting to drive.google.com (drive.google.com)|142.250.153.139|:443... connected.\n",
            "HTTP request sent, awaiting response... 303 See Other\n",
            "Location: https://doc-14-48-docs.googleusercontent.com/docs/securesc/ha0ro937gcuc7l7deffksulhg5h7mbp1/0lnkm6qp6otgqk420mcl3rdlj5tbtkfg/1686483825000/00120167058189846992/*/1zRzUOznck_4TJAZ3M_0fGuKrmGqaqpJi?e=download&uuid=9c50dfa4-5de4-4826-96e8-91d964242512 [following]\n",
            "Warning: wildcards not supported in HTTP.\n",
            "--2023-06-11 11:43:47--  https://doc-14-48-docs.googleusercontent.com/docs/securesc/ha0ro937gcuc7l7deffksulhg5h7mbp1/0lnkm6qp6otgqk420mcl3rdlj5tbtkfg/1686483825000/00120167058189846992/*/1zRzUOznck_4TJAZ3M_0fGuKrmGqaqpJi?e=download&uuid=9c50dfa4-5de4-4826-96e8-91d964242512\n",
            "Resolving doc-14-48-docs.googleusercontent.com (doc-14-48-docs.googleusercontent.com)... 108.177.126.132, 2a00:1450:4013:c01::84\n",
            "Connecting to doc-14-48-docs.googleusercontent.com (doc-14-48-docs.googleusercontent.com)|108.177.126.132|:443... connected.\n",
            "HTTP request sent, awaiting response... 200 OK\n",
            "Length: 3480879 (3.3M) [text/csv]\n",
            "Saving to: ‘dataset.csv’\n",
            "\n",
            "dataset.csv         100%[===================>]   3.32M  --.-KB/s    in 0.01s   \n",
            "\n",
            "2023-06-11 11:43:47 (253 MB/s) - ‘dataset.csv’ saved [3480879/3480879]\n",
            "\n"
          ]
        }
      ]
    },
    {
      "cell_type": "code",
      "source": [
        "df = pd.read_csv('dataset.csv')"
      ],
      "metadata": {
        "id": "tjZzYZ6WRX9k"
      },
      "execution_count": 3,
      "outputs": []
    },
    {
      "cell_type": "code",
      "source": [
        "df.head(10)"
      ],
      "metadata": {
        "colab": {
          "base_uri": "https://localhost:8080/",
          "height": 580
        },
        "id": "uDtmQ7qGRdMo",
        "outputId": "4ad7f262-0e90-4d18-b716-9e0e671ed92e"
      },
      "execution_count": 4,
      "outputs": [
        {
          "output_type": "execute_result",
          "data": {
            "text/plain": [
              "  id_soal                                               soal  \\\n",
              "0     pm1  Nationalgeographic.co.id—Penelitian baru\\r\\nda...   \n",
              "1     pm2  Nationalgeographic.co.id — Para ilmuwan\\r\\ntel...   \n",
              "2     pm3  Dalam suatu kelas terdapat 15 murid laki- laki...   \n",
              "3     pm4  Sebuah keramik persegi panjang memiliki kelili...   \n",
              "4     pm5  Sebuah kantor ekspedisi memberlakukan\\r\\nbiaya...   \n",
              "5     pm6  Pada sabtu sore, Joko mengirim x pesan\\nper ja...   \n",
              "6     pm7  Japri adalah seorang teknisi yang bekerja\\ndi ...   \n",
              "7     pm8  h = 3µ + 28,6\\n\\nSeorang dokter anak menggunak...   \n",
              "8     pm9  b = 2,35 + 0,25x\\nc = 1,75 + 0,40x\\n\\nPada sis...   \n",
              "9    pm10  Marko membeli laptop di toko yang\\nmemberikan ...   \n",
              "\n",
              "                                             jawaban  \\\n",
              "0  (A) 360 cara\\n(B) 720 cara\\n(C) 1200 cara\\n(D)...   \n",
              "1  (A) 2,25 × 10¹⁹\\n(B) 22,5 × 10¹⁹\\n(C) 1,6 × 10...   \n",
              "2  (A) 78 dan 404/3\\n'\\n(B) 63 dan 404/3\\n'\\n(C) ...   \n",
              "3  (A) −3 ≤ x ≤ 7\\n(B) 3 < x < 7\\n(C) −3 ≤ x atau...   \n",
              "4  (A) Rp42500, −\\n(B) Rp32500, −\\n(C) Rp45000, −...   \n",
              "5  (A) 9xy\\n(B) 20xy\\n(C) 5x + 4y\\n(D) 4x + 5y\\n(...   \n",
              "6  (A) Japri bisa menyelesaikan perbaikan\\nselama...   \n",
              "7  (A) 3\\r\\n(B) 5,7\\r\\n(C) 9,5\\r\\n(D) 14,3\\r\\n(E)...   \n",
              "8  (A) € 2,60\\n(B) € 2,85\\n(C) € 2,95\\n(D) € 3,35...   \n",
              "9  (A) 0,88p\\n(B) p/0.88\\n(C) (0,8)(1,08)p\\n(D) p...   \n",
              "\n",
              "                                       jawaban_benar  \\\n",
              "0                                       (B) 720 cara   \n",
              "1                                    (A) 2,25 × 10¹⁹   \n",
              "2                               (E) 78 dan 2√(101/3)   \n",
              "3                                      (D) 3 ≤ x ≤ 7   \n",
              "4                                     (A) Rp42500, −   \n",
              "5                                        (C) 5x + 4y   \n",
              "6  (B) Japri setiap minggunya\\nmendapatkan 108 sm...   \n",
              "7                                              (A) 3   \n",
              "8                                         (D) € 3,35   \n",
              "9                                  (D) p/(0,8)(1,08)   \n",
              "\n",
              "                                 materi  jumlah_dikerjakan  jumlah_benar  \\\n",
              "0                               Peluang                432            84   \n",
              "1                   Bilangan Berpangkat                709           109   \n",
              "2                            Statistika                640           392   \n",
              "3                Pertidaksamaan Kuadrat                195           113   \n",
              "4                        Fungsi Aljabar                833           713   \n",
              "5                      Model Matematika                923           384   \n",
              "6                      Model Matematika                691           384   \n",
              "7                      Model Matematika                368            15   \n",
              "8  Sistem Persamaan Linear Dua Variabel                456           320   \n",
              "9                     Aritmatika Sosial                 14             6   \n",
              "\n",
              "  kategori_soal  \n",
              "0         sulit  \n",
              "1         sulit  \n",
              "2        sedang  \n",
              "3        sedang  \n",
              "4         mudah  \n",
              "5        sedang  \n",
              "6        sedang  \n",
              "7         sulit  \n",
              "8         mudah  \n",
              "9        sedang  "
            ],
            "text/html": [
              "\n",
              "  <div id=\"df-a73ba8f7-8e44-4e73-9b9f-2955a9e1f9a7\">\n",
              "    <div class=\"colab-df-container\">\n",
              "      <div>\n",
              "<style scoped>\n",
              "    .dataframe tbody tr th:only-of-type {\n",
              "        vertical-align: middle;\n",
              "    }\n",
              "\n",
              "    .dataframe tbody tr th {\n",
              "        vertical-align: top;\n",
              "    }\n",
              "\n",
              "    .dataframe thead th {\n",
              "        text-align: right;\n",
              "    }\n",
              "</style>\n",
              "<table border=\"1\" class=\"dataframe\">\n",
              "  <thead>\n",
              "    <tr style=\"text-align: right;\">\n",
              "      <th></th>\n",
              "      <th>id_soal</th>\n",
              "      <th>soal</th>\n",
              "      <th>jawaban</th>\n",
              "      <th>jawaban_benar</th>\n",
              "      <th>materi</th>\n",
              "      <th>jumlah_dikerjakan</th>\n",
              "      <th>jumlah_benar</th>\n",
              "      <th>kategori_soal</th>\n",
              "    </tr>\n",
              "  </thead>\n",
              "  <tbody>\n",
              "    <tr>\n",
              "      <th>0</th>\n",
              "      <td>pm1</td>\n",
              "      <td>Nationalgeographic.co.id—Penelitian baru\\r\\nda...</td>\n",
              "      <td>(A) 360 cara\\n(B) 720 cara\\n(C) 1200 cara\\n(D)...</td>\n",
              "      <td>(B) 720 cara</td>\n",
              "      <td>Peluang</td>\n",
              "      <td>432</td>\n",
              "      <td>84</td>\n",
              "      <td>sulit</td>\n",
              "    </tr>\n",
              "    <tr>\n",
              "      <th>1</th>\n",
              "      <td>pm2</td>\n",
              "      <td>Nationalgeographic.co.id — Para ilmuwan\\r\\ntel...</td>\n",
              "      <td>(A) 2,25 × 10¹⁹\\n(B) 22,5 × 10¹⁹\\n(C) 1,6 × 10...</td>\n",
              "      <td>(A) 2,25 × 10¹⁹</td>\n",
              "      <td>Bilangan Berpangkat</td>\n",
              "      <td>709</td>\n",
              "      <td>109</td>\n",
              "      <td>sulit</td>\n",
              "    </tr>\n",
              "    <tr>\n",
              "      <th>2</th>\n",
              "      <td>pm3</td>\n",
              "      <td>Dalam suatu kelas terdapat 15 murid laki- laki...</td>\n",
              "      <td>(A) 78 dan 404/3\\n'\\n(B) 63 dan 404/3\\n'\\n(C) ...</td>\n",
              "      <td>(E) 78 dan 2√(101/3)</td>\n",
              "      <td>Statistika</td>\n",
              "      <td>640</td>\n",
              "      <td>392</td>\n",
              "      <td>sedang</td>\n",
              "    </tr>\n",
              "    <tr>\n",
              "      <th>3</th>\n",
              "      <td>pm4</td>\n",
              "      <td>Sebuah keramik persegi panjang memiliki kelili...</td>\n",
              "      <td>(A) −3 ≤ x ≤ 7\\n(B) 3 &lt; x &lt; 7\\n(C) −3 ≤ x atau...</td>\n",
              "      <td>(D) 3 ≤ x ≤ 7</td>\n",
              "      <td>Pertidaksamaan Kuadrat</td>\n",
              "      <td>195</td>\n",
              "      <td>113</td>\n",
              "      <td>sedang</td>\n",
              "    </tr>\n",
              "    <tr>\n",
              "      <th>4</th>\n",
              "      <td>pm5</td>\n",
              "      <td>Sebuah kantor ekspedisi memberlakukan\\r\\nbiaya...</td>\n",
              "      <td>(A) Rp42500, −\\n(B) Rp32500, −\\n(C) Rp45000, −...</td>\n",
              "      <td>(A) Rp42500, −</td>\n",
              "      <td>Fungsi Aljabar</td>\n",
              "      <td>833</td>\n",
              "      <td>713</td>\n",
              "      <td>mudah</td>\n",
              "    </tr>\n",
              "    <tr>\n",
              "      <th>5</th>\n",
              "      <td>pm6</td>\n",
              "      <td>Pada sabtu sore, Joko mengirim x pesan\\nper ja...</td>\n",
              "      <td>(A) 9xy\\n(B) 20xy\\n(C) 5x + 4y\\n(D) 4x + 5y\\n(...</td>\n",
              "      <td>(C) 5x + 4y</td>\n",
              "      <td>Model Matematika</td>\n",
              "      <td>923</td>\n",
              "      <td>384</td>\n",
              "      <td>sedang</td>\n",
              "    </tr>\n",
              "    <tr>\n",
              "      <th>6</th>\n",
              "      <td>pm7</td>\n",
              "      <td>Japri adalah seorang teknisi yang bekerja\\ndi ...</td>\n",
              "      <td>(A) Japri bisa menyelesaikan perbaikan\\nselama...</td>\n",
              "      <td>(B) Japri setiap minggunya\\nmendapatkan 108 sm...</td>\n",
              "      <td>Model Matematika</td>\n",
              "      <td>691</td>\n",
              "      <td>384</td>\n",
              "      <td>sedang</td>\n",
              "    </tr>\n",
              "    <tr>\n",
              "      <th>7</th>\n",
              "      <td>pm8</td>\n",
              "      <td>h = 3µ + 28,6\\n\\nSeorang dokter anak menggunak...</td>\n",
              "      <td>(A) 3\\r\\n(B) 5,7\\r\\n(C) 9,5\\r\\n(D) 14,3\\r\\n(E)...</td>\n",
              "      <td>(A) 3</td>\n",
              "      <td>Model Matematika</td>\n",
              "      <td>368</td>\n",
              "      <td>15</td>\n",
              "      <td>sulit</td>\n",
              "    </tr>\n",
              "    <tr>\n",
              "      <th>8</th>\n",
              "      <td>pm9</td>\n",
              "      <td>b = 2,35 + 0,25x\\nc = 1,75 + 0,40x\\n\\nPada sis...</td>\n",
              "      <td>(A) € 2,60\\n(B) € 2,85\\n(C) € 2,95\\n(D) € 3,35...</td>\n",
              "      <td>(D) € 3,35</td>\n",
              "      <td>Sistem Persamaan Linear Dua Variabel</td>\n",
              "      <td>456</td>\n",
              "      <td>320</td>\n",
              "      <td>mudah</td>\n",
              "    </tr>\n",
              "    <tr>\n",
              "      <th>9</th>\n",
              "      <td>pm10</td>\n",
              "      <td>Marko membeli laptop di toko yang\\nmemberikan ...</td>\n",
              "      <td>(A) 0,88p\\n(B) p/0.88\\n(C) (0,8)(1,08)p\\n(D) p...</td>\n",
              "      <td>(D) p/(0,8)(1,08)</td>\n",
              "      <td>Aritmatika Sosial</td>\n",
              "      <td>14</td>\n",
              "      <td>6</td>\n",
              "      <td>sedang</td>\n",
              "    </tr>\n",
              "  </tbody>\n",
              "</table>\n",
              "</div>\n",
              "      <button class=\"colab-df-convert\" onclick=\"convertToInteractive('df-a73ba8f7-8e44-4e73-9b9f-2955a9e1f9a7')\"\n",
              "              title=\"Convert this dataframe to an interactive table.\"\n",
              "              style=\"display:none;\">\n",
              "        \n",
              "  <svg xmlns=\"http://www.w3.org/2000/svg\" height=\"24px\"viewBox=\"0 0 24 24\"\n",
              "       width=\"24px\">\n",
              "    <path d=\"M0 0h24v24H0V0z\" fill=\"none\"/>\n",
              "    <path d=\"M18.56 5.44l.94 2.06.94-2.06 2.06-.94-2.06-.94-.94-2.06-.94 2.06-2.06.94zm-11 1L8.5 8.5l.94-2.06 2.06-.94-2.06-.94L8.5 2.5l-.94 2.06-2.06.94zm10 10l.94 2.06.94-2.06 2.06-.94-2.06-.94-.94-2.06-.94 2.06-2.06.94z\"/><path d=\"M17.41 7.96l-1.37-1.37c-.4-.4-.92-.59-1.43-.59-.52 0-1.04.2-1.43.59L10.3 9.45l-7.72 7.72c-.78.78-.78 2.05 0 2.83L4 21.41c.39.39.9.59 1.41.59.51 0 1.02-.2 1.41-.59l7.78-7.78 2.81-2.81c.8-.78.8-2.07 0-2.86zM5.41 20L4 18.59l7.72-7.72 1.47 1.35L5.41 20z\"/>\n",
              "  </svg>\n",
              "      </button>\n",
              "      \n",
              "  <style>\n",
              "    .colab-df-container {\n",
              "      display:flex;\n",
              "      flex-wrap:wrap;\n",
              "      gap: 12px;\n",
              "    }\n",
              "\n",
              "    .colab-df-convert {\n",
              "      background-color: #E8F0FE;\n",
              "      border: none;\n",
              "      border-radius: 50%;\n",
              "      cursor: pointer;\n",
              "      display: none;\n",
              "      fill: #1967D2;\n",
              "      height: 32px;\n",
              "      padding: 0 0 0 0;\n",
              "      width: 32px;\n",
              "    }\n",
              "\n",
              "    .colab-df-convert:hover {\n",
              "      background-color: #E2EBFA;\n",
              "      box-shadow: 0px 1px 2px rgba(60, 64, 67, 0.3), 0px 1px 3px 1px rgba(60, 64, 67, 0.15);\n",
              "      fill: #174EA6;\n",
              "    }\n",
              "\n",
              "    [theme=dark] .colab-df-convert {\n",
              "      background-color: #3B4455;\n",
              "      fill: #D2E3FC;\n",
              "    }\n",
              "\n",
              "    [theme=dark] .colab-df-convert:hover {\n",
              "      background-color: #434B5C;\n",
              "      box-shadow: 0px 1px 3px 1px rgba(0, 0, 0, 0.15);\n",
              "      filter: drop-shadow(0px 1px 2px rgba(0, 0, 0, 0.3));\n",
              "      fill: #FFFFFF;\n",
              "    }\n",
              "  </style>\n",
              "\n",
              "      <script>\n",
              "        const buttonEl =\n",
              "          document.querySelector('#df-a73ba8f7-8e44-4e73-9b9f-2955a9e1f9a7 button.colab-df-convert');\n",
              "        buttonEl.style.display =\n",
              "          google.colab.kernel.accessAllowed ? 'block' : 'none';\n",
              "\n",
              "        async function convertToInteractive(key) {\n",
              "          const element = document.querySelector('#df-a73ba8f7-8e44-4e73-9b9f-2955a9e1f9a7');\n",
              "          const dataTable =\n",
              "            await google.colab.kernel.invokeFunction('convertToInteractive',\n",
              "                                                     [key], {});\n",
              "          if (!dataTable) return;\n",
              "\n",
              "          const docLinkHtml = 'Like what you see? Visit the ' +\n",
              "            '<a target=\"_blank\" href=https://colab.research.google.com/notebooks/data_table.ipynb>data table notebook</a>'\n",
              "            + ' to learn more about interactive tables.';\n",
              "          element.innerHTML = '';\n",
              "          dataTable['output_type'] = 'display_data';\n",
              "          await google.colab.output.renderOutput(dataTable, element);\n",
              "          const docLink = document.createElement('div');\n",
              "          docLink.innerHTML = docLinkHtml;\n",
              "          element.appendChild(docLink);\n",
              "        }\n",
              "      </script>\n",
              "    </div>\n",
              "  </div>\n",
              "  "
            ]
          },
          "metadata": {},
          "execution_count": 4
        }
      ]
    },
    {
      "cell_type": "code",
      "source": [
        "df.shape"
      ],
      "metadata": {
        "colab": {
          "base_uri": "https://localhost:8080/"
        },
        "id": "w-lYg-Z2YRv3",
        "outputId": "9142a190-a309-4053-e389-bc32716e3a02"
      },
      "execution_count": 5,
      "outputs": [
        {
          "output_type": "execute_result",
          "data": {
            "text/plain": [
              "(6000, 8)"
            ]
          },
          "metadata": {},
          "execution_count": 5
        }
      ]
    },
    {
      "cell_type": "code",
      "source": [
        "df.dtypes"
      ],
      "metadata": {
        "colab": {
          "base_uri": "https://localhost:8080/"
        },
        "id": "Bu9fVKMvReRe",
        "outputId": "78bc34a9-1e8d-4fdf-88e8-9d77ff012f53"
      },
      "execution_count": 6,
      "outputs": [
        {
          "output_type": "execute_result",
          "data": {
            "text/plain": [
              "id_soal              object\n",
              "soal                 object\n",
              "jawaban              object\n",
              "jawaban_benar        object\n",
              "materi               object\n",
              "jumlah_dikerjakan     int64\n",
              "jumlah_benar          int64\n",
              "kategori_soal        object\n",
              "dtype: object"
            ]
          },
          "metadata": {},
          "execution_count": 6
        }
      ]
    },
    {
      "cell_type": "code",
      "source": [
        "#rename columns\n",
        "df.columns = ['idSoal', 'soal','jawaban', 'jawaban_benar', 'materi','jumlahDikerjakan','jumlahBenar','kategori']"
      ],
      "metadata": {
        "id": "rXT0B-v_ZHIe"
      },
      "execution_count": 7,
      "outputs": []
    },
    {
      "cell_type": "code",
      "source": [
        "# Check Missing Values\n",
        "df.isnull().sum()"
      ],
      "metadata": {
        "colab": {
          "base_uri": "https://localhost:8080/"
        },
        "id": "1cclZCwkSjTD",
        "outputId": "a7bc5e33-d1ca-480e-9567-32a0010e1fd3"
      },
      "execution_count": 8,
      "outputs": [
        {
          "output_type": "execute_result",
          "data": {
            "text/plain": [
              "idSoal              0\n",
              "soal                0\n",
              "jawaban             0\n",
              "jawaban_benar       0\n",
              "materi              0\n",
              "jumlahDikerjakan    0\n",
              "jumlahBenar         0\n",
              "kategori            0\n",
              "dtype: int64"
            ]
          },
          "metadata": {},
          "execution_count": 8
        }
      ]
    },
    {
      "cell_type": "code",
      "source": [
        "#Check the balance target\n",
        "plt.style.use(\"ggplot\")\n",
        "df[\"kategori\"].value_counts().plot(kind=\"bar\", \n",
        "                                  figsize = (8,5), color = \"darkviolet\")\n",
        "plt.title(\"Frequency of the classes of our Target variable\", size=20)\n",
        "plt.xlabel(\"Target Variable\", size = 16)\n",
        "plt.ylabel(\"Frequency\", size = 16)"
      ],
      "metadata": {
        "colab": {
          "base_uri": "https://localhost:8080/",
          "height": 556
        },
        "id": "pTR8gypdYGWH",
        "outputId": "7c749f7d-0de3-44ca-d2a6-06cf2c1da831"
      },
      "execution_count": 9,
      "outputs": [
        {
          "output_type": "execute_result",
          "data": {
            "text/plain": [
              "Text(0, 0.5, 'Frequency')"
            ]
          },
          "metadata": {},
          "execution_count": 9
        },
        {
          "output_type": "display_data",
          "data": {
            "text/plain": [
              "<Figure size 800x500 with 1 Axes>"
            ],
            "image/png": "[encoded data removed]"
          },
          "metadata": {}
        }
      ]
    },
    {
      "cell_type": "code",
      "source": [
        "#drop unnecessary column\n",
        "df.drop(['idSoal','jawaban','jawaban_benar'], axis=1, inplace=True)"
      ],
      "metadata": {
        "id": "crX7O7I4ZwOO"
      },
      "execution_count": 10,
      "outputs": []
    },
    {
      "cell_type": "code",
      "source": [
        "df.drop(['soal','materi'], axis=1, inplace=True)"
      ],
      "metadata": {
        "id": "8YWR6hnQaPD4"
      },
      "execution_count": 11,
      "outputs": []
    },
    {
      "cell_type": "code",
      "source": [
        "df.head()"
      ],
      "metadata": {
        "colab": {
          "base_uri": "https://localhost:8080/",
          "height": 206
        },
        "id": "QiwJUb5IaSwg",
        "outputId": "75a94c5c-7f42-41f4-a88a-139b1b9b6b80"
      },
      "execution_count": 12,
      "outputs": [
        {
          "output_type": "execute_result",
          "data": {
            "text/plain": [
              "   jumlahDikerjakan  jumlahBenar kategori\n",
              "0               432           84    sulit\n",
              "1               709          109    sulit\n",
              "2               640          392   sedang\n",
              "3               195          113   sedang\n",
              "4               833          713    mudah"
            ],
            "text/html": [
              "\n",
              "  <div id=\"df-822f7acc-1d96-42e8-8a80-cb8eea4742f3\">\n",
              "    <div class=\"colab-df-container\">\n",
              "      <div>\n",
              "<style scoped>\n",
              "    .dataframe tbody tr th:only-of-type {\n",
              "        vertical-align: middle;\n",
              "    }\n",
              "\n",
              "    .dataframe tbody tr th {\n",
              "        vertical-align: top;\n",
              "    }\n",
              "\n",
              "    .dataframe thead th {\n",
              "        text-align: right;\n",
              "    }\n",
              "</style>\n",
              "<table border=\"1\" class=\"dataframe\">\n",
              "  <thead>\n",
              "    <tr style=\"text-align: right;\">\n",
              "      <th></th>\n",
              "      <th>jumlahDikerjakan</th>\n",
              "      <th>jumlahBenar</th>\n",
              "      <th>kategori</th>\n",
              "    </tr>\n",
              "  </thead>\n",
              "  <tbody>\n",
              "    <tr>\n",
              "      <th>0</th>\n",
              "      <td>432</td>\n",
              "      <td>84</td>\n",
              "      <td>sulit</td>\n",
              "    </tr>\n",
              "    <tr>\n",
              "      <th>1</th>\n",
              "      <td>709</td>\n",
              "      <td>109</td>\n",
              "      <td>sulit</td>\n",
              "    </tr>\n",
              "    <tr>\n",
              "      <th>2</th>\n",
              "      <td>640</td>\n",
              "      <td>392</td>\n",
              "      <td>sedang</td>\n",
              "    </tr>\n",
              "    <tr>\n",
              "      <th>3</th>\n",
              "      <td>195</td>\n",
              "      <td>113</td>\n",
              "      <td>sedang</td>\n",
              "    </tr>\n",
              "    <tr>\n",
              "      <th>4</th>\n",
              "      <td>833</td>\n",
              "      <td>713</td>\n",
              "      <td>mudah</td>\n",
              "    </tr>\n",
              "  </tbody>\n",
              "</table>\n",
              "</div>\n",
              "      <button class=\"colab-df-convert\" onclick=\"convertToInteractive('df-822f7acc-1d96-42e8-8a80-cb8eea4742f3')\"\n",
              "              title=\"Convert this dataframe to an interactive table.\"\n",
              "              style=\"display:none;\">\n",
              "        \n",
              "  <svg xmlns=\"http://www.w3.org/2000/svg\" height=\"24px\"viewBox=\"0 0 24 24\"\n",
              "       width=\"24px\">\n",
              "    <path d=\"M0 0h24v24H0V0z\" fill=\"none\"/>\n",
              "    <path d=\"M18.56 5.44l.94 2.06.94-2.06 2.06-.94-2.06-.94-.94-2.06-.94 2.06-2.06.94zm-11 1L8.5 8.5l.94-2.06 2.06-.94-2.06-.94L8.5 2.5l-.94 2.06-2.06.94zm10 10l.94 2.06.94-2.06 2.06-.94-2.06-.94-.94-2.06-.94 2.06-2.06.94z\"/><path d=\"M17.41 7.96l-1.37-1.37c-.4-.4-.92-.59-1.43-.59-.52 0-1.04.2-1.43.59L10.3 9.45l-7.72 7.72c-.78.78-.78 2.05 0 2.83L4 21.41c.39.39.9.59 1.41.59.51 0 1.02-.2 1.41-.59l7.78-7.78 2.81-2.81c.8-.78.8-2.07 0-2.86zM5.41 20L4 18.59l7.72-7.72 1.47 1.35L5.41 20z\"/>\n",
              "  </svg>\n",
              "      </button>\n",
              "      \n",
              "  <style>\n",
              "    .colab-df-container {\n",
              "      display:flex;\n",
              "      flex-wrap:wrap;\n",
              "      gap: 12px;\n",
              "    }\n",
              "\n",
              "    .colab-df-convert {\n",
              "      background-color: #E8F0FE;\n",
              "      border: none;\n",
              "      border-radius: 50%;\n",
              "      cursor: pointer;\n",
              "      display: none;\n",
              "      fill: #1967D2;\n",
              "      height: 32px;\n",
              "      padding: 0 0 0 0;\n",
              "      width: 32px;\n",
              "    }\n",
              "\n",
              "    .colab-df-convert:hover {\n",
              "      background-color: #E2EBFA;\n",
              "      box-shadow: 0px 1px 2px rgba(60, 64, 67, 0.3), 0px 1px 3px 1px rgba(60, 64, 67, 0.15);\n",
              "      fill: #174EA6;\n",
              "    }\n",
              "\n",
              "    [theme=dark] .colab-df-convert {\n",
              "      background-color: #3B4455;\n",
              "      fill: #D2E3FC;\n",
              "    }\n",
              "\n",
              "    [theme=dark] .colab-df-convert:hover {\n",
              "      background-color: #434B5C;\n",
              "      box-shadow: 0px 1px 3px 1px rgba(0, 0, 0, 0.15);\n",
              "      filter: drop-shadow(0px 1px 2px rgba(0, 0, 0, 0.3));\n",
              "      fill: #FFFFFF;\n",
              "    }\n",
              "  </style>\n",
              "\n",
              "      <script>\n",
              "        const buttonEl =\n",
              "          document.querySelector('#df-822f7acc-1d96-42e8-8a80-cb8eea4742f3 button.colab-df-convert');\n",
              "        buttonEl.style.display =\n",
              "          google.colab.kernel.accessAllowed ? 'block' : 'none';\n",
              "\n",
              "        async function convertToInteractive(key) {\n",
              "          const element = document.querySelector('#df-822f7acc-1d96-42e8-8a80-cb8eea4742f3');\n",
              "          const dataTable =\n",
              "            await google.colab.kernel.invokeFunction('convertToInteractive',\n",
              "                                                     [key], {});\n",
              "          if (!dataTable) return;\n",
              "\n",
              "          const docLinkHtml = 'Like what you see? Visit the ' +\n",
              "            '<a target=\"_blank\" href=https://colab.research.google.com/notebooks/data_table.ipynb>data table notebook</a>'\n",
              "            + ' to learn more about interactive tables.';\n",
              "          element.innerHTML = '';\n",
              "          dataTable['output_type'] = 'display_data';\n",
              "          await google.colab.output.renderOutput(dataTable, element);\n",
              "          const docLink = document.createElement('div');\n",
              "          docLink.innerHTML = docLinkHtml;\n",
              "          element.appendChild(docLink);\n",
              "        }\n",
              "      </script>\n",
              "    </div>\n",
              "  </div>\n",
              "  "
            ]
          },
          "metadata": {},
          "execution_count": 12
        }
      ]
    },
    {
      "cell_type": "code",
      "source": [
        "# Split dataset to data train and data test\n",
        "X = df.iloc[:,0:2].values\n",
        "Y = df.iloc[:,2].values\n",
        "\n",
        "encoder = LabelEncoder()\n",
        "y1 = encoder.fit_transform(Y)\n",
        "Y = pd.get_dummies(y1).values\n",
        "\n",
        "x_train, x_test, y_train, y_test = train_test_split(X,Y, test_size=0.2, random_state=1)"
      ],
      "metadata": {
        "id": "M7fG_P-lc3SJ"
      },
      "execution_count": 13,
      "outputs": []
    },
    {
      "cell_type": "code",
      "source": [
        "import tensorflow as tf\n",
        "\n",
        "def classification_model():\n",
        "    # Define the model\n",
        "    model = tf.keras.models.Sequential([ \n",
        "        tf.keras.layers.Dense(6, input_shape = (2,) ,activation='relu'),\n",
        "        tf.keras.layers.Dense(8, activation ='relu'),\n",
        "        tf.keras.layers.Dense(3, activation='softmax')\n",
        "    ]) \n",
        "\n",
        "    # Compile the model\n",
        "    model.compile(optimizer='adam', \n",
        "                  loss='categorical_crossentropy', \n",
        "                  metrics=['accuracy'])\n",
        "        \n",
        "    return model"
      ],
      "metadata": {
        "id": "rRWyRhEnhx4q"
      },
      "execution_count": 14,
      "outputs": []
    },
    {
      "cell_type": "code",
      "source": [
        "epochs = 20\n",
        "\n",
        "model = classification_model()\n",
        "model.summary()"
      ],
      "metadata": {
        "colab": {
          "base_uri": "https://localhost:8080/"
        },
        "id": "enkzDF0OfiLw",
        "outputId": "2d3bf7ea-8337-4087-9251-6a21b09136a5"
      },
      "execution_count": 15,
      "outputs": [
        {
          "output_type": "stream",
          "name": "stdout",
          "text": [
            "Model: \"sequential\"\n",
            "_________________________________________________________________\n",
            " Layer (type)                Output Shape              Param #   \n",
            "=================================================================\n",
            " dense (Dense)               (None, 6)                 18        \n",
            "                                                                 \n",
            " dense_1 (Dense)             (None, 8)                 56        \n",
            "                                                                 \n",
            " dense_2 (Dense)             (None, 3)                 27        \n",
            "                                                                 \n",
            "=================================================================\n",
            "Total params: 101\n",
            "Trainable params: 101\n",
            "Non-trainable params: 0\n",
            "_________________________________________________________________\n"
          ]
        }
      ]
    },
    {
      "cell_type": "code",
      "source": [
        "history = model.fit(x_train,y_train,validation_split=0.2,epochs=epochs)"
      ],
      "metadata": {
        "colab": {
          "base_uri": "https://localhost:8080/"
        },
        "id": "ITFWdsE-jjmC",
        "outputId": "a2ba7d2f-1fe6-45a5-c062-a7ba5ce80fe6"
      },
      "execution_count": 16,
      "outputs": [
        {
          "output_type": "stream",
          "name": "stdout",
          "text": [
            "Epoch 1/20\n",
            "120/120 [==============================] - 1s 3ms/step - loss: 36.2436 - accuracy: 0.6060 - val_loss: 14.7184 - val_accuracy: 0.6844\n",
            "Epoch 2/20\n",
            "120/120 [==============================] - 0s 2ms/step - loss: 5.9545 - accuracy: 0.7018 - val_loss: 0.2090 - val_accuracy: 0.9115\n",
            "Epoch 3/20\n",
            "120/120 [==============================] - 0s 2ms/step - loss: 0.0807 - accuracy: 0.9815 - val_loss: 0.0702 - val_accuracy: 0.9792\n",
            "Epoch 4/20\n",
            "120/120 [==============================] - 0s 2ms/step - loss: 0.0684 - accuracy: 0.9862 - val_loss: 0.0738 - val_accuracy: 0.9750\n",
            "Epoch 5/20\n",
            "120/120 [==============================] - 0s 2ms/step - loss: 0.0648 - accuracy: 0.9854 - val_loss: 0.0600 - val_accuracy: 0.9854\n",
            "Epoch 6/20\n",
            "120/120 [==============================] - 0s 2ms/step - loss: 0.0660 - accuracy: 0.9833 - val_loss: 0.0656 - val_accuracy: 0.9781\n",
            "Epoch 7/20\n",
            "120/120 [==============================] - 0s 2ms/step - loss: 0.0646 - accuracy: 0.9857 - val_loss: 0.0570 - val_accuracy: 0.9854\n",
            "Epoch 8/20\n",
            "120/120 [==============================] - 0s 2ms/step - loss: 0.0599 - accuracy: 0.9852 - val_loss: 0.0555 - val_accuracy: 0.9875\n",
            "Epoch 9/20\n",
            "120/120 [==============================] - 0s 2ms/step - loss: 0.0606 - accuracy: 0.9859 - val_loss: 0.0540 - val_accuracy: 0.9896\n",
            "Epoch 10/20\n",
            "120/120 [==============================] - 0s 2ms/step - loss: 0.0592 - accuracy: 0.9859 - val_loss: 0.0531 - val_accuracy: 0.9854\n",
            "Epoch 11/20\n",
            "120/120 [==============================] - 0s 2ms/step - loss: 0.0533 - accuracy: 0.9901 - val_loss: 0.0601 - val_accuracy: 0.9792\n",
            "Epoch 12/20\n",
            "120/120 [==============================] - 0s 2ms/step - loss: 0.0576 - accuracy: 0.9867 - val_loss: 0.0542 - val_accuracy: 0.9833\n",
            "Epoch 13/20\n",
            "120/120 [==============================] - 0s 3ms/step - loss: 0.0591 - accuracy: 0.9859 - val_loss: 0.0583 - val_accuracy: 0.9771\n",
            "Epoch 14/20\n",
            "120/120 [==============================] - 0s 2ms/step - loss: 0.0551 - accuracy: 0.9854 - val_loss: 0.0502 - val_accuracy: 0.9906\n",
            "Epoch 15/20\n",
            "120/120 [==============================] - 0s 2ms/step - loss: 0.0526 - accuracy: 0.9865 - val_loss: 0.0493 - val_accuracy: 0.9844\n",
            "Epoch 16/20\n",
            "120/120 [==============================] - 0s 2ms/step - loss: 0.0514 - accuracy: 0.9888 - val_loss: 0.0477 - val_accuracy: 0.9948\n",
            "Epoch 17/20\n",
            "120/120 [==============================] - 0s 2ms/step - loss: 0.0508 - accuracy: 0.9883 - val_loss: 0.0586 - val_accuracy: 0.9823\n",
            "Epoch 18/20\n",
            "120/120 [==============================] - 0s 3ms/step - loss: 0.0509 - accuracy: 0.9896 - val_loss: 0.0498 - val_accuracy: 0.9906\n",
            "Epoch 19/20\n",
            "120/120 [==============================] - 0s 3ms/step - loss: 0.0526 - accuracy: 0.9888 - val_loss: 0.0464 - val_accuracy: 0.9896\n",
            "Epoch 20/20\n",
            "120/120 [==============================] - 0s 3ms/step - loss: 0.0547 - accuracy: 0.9872 - val_loss: 0.0542 - val_accuracy: 0.9875\n"
          ]
        }
      ]
    },
    {
      "cell_type": "code",
      "source": [
        "y_pred = model.predict(x_test)\n",
        "y_test_class = np.argmax(y_test, axis=1)\n",
        "y_pred_class = np.argmax(y_pred, axis=1)"
      ],
      "metadata": {
        "colab": {
          "base_uri": "https://localhost:8080/"
        },
        "id": "JIQ_blC9kBar",
        "outputId": "ab7f1315-2256-4208-f775-6473a3828f12"
      },
      "execution_count": 17,
      "outputs": [
        {
          "output_type": "stream",
          "name": "stdout",
          "text": [
            "38/38 [==============================] - 0s 2ms/step\n"
          ]
        }
      ]
    },
    {
      "cell_type": "code",
      "source": [
        "# Accuracy score\n",
        "from sklearn.metrics import classification_report,r2_score\n",
        "print(classification_report(y_test_class, y_pred_class))\n",
        "print(f\"r2 score: {r2_score(y_test_class, y_pred_class)}\")"
      ],
      "metadata": {
        "colab": {
          "base_uri": "https://localhost:8080/"
        },
        "id": "wjZLLJ9qfUNs",
        "outputId": "ae149bd3-9402-4fd8-a0a7-37f2d498ce23"
      },
      "execution_count": 18,
      "outputs": [
        {
          "output_type": "stream",
          "name": "stdout",
          "text": [
            "              precision    recall  f1-score   support\n",
            "\n",
            "           0       1.00      0.96      0.98       362\n",
            "           1       0.95      0.97      0.96       358\n",
            "           2       0.98      0.99      0.99       480\n",
            "\n",
            "    accuracy                           0.98      1200\n",
            "   macro avg       0.98      0.98      0.98      1200\n",
            "weighted avg       0.98      0.98      0.98      1200\n",
            "\n",
            "r2 score: 0.9686896623701926\n"
          ]
        }
      ]
    }
  ]
}